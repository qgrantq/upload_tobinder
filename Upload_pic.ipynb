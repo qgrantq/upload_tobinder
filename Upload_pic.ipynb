{
  "nbformat": 4,
  "nbformat_minor": 0,
  "metadata": {
    "colab": {
      "name": "Upload-pic.ipynb",
      "provenance": [],
      "collapsed_sections": [],
      "mount_file_id": "10FpqsZGC90teax16zJvwTelN4Y59BAZ3",
      "authorship_tag": "ABX9TyO7ix+O9VhzobNlGlvK+Zd3",
      "include_colab_link": true
    },
    "kernelspec": {
      "name": "python3",
      "display_name": "Python 3"
    },
    "language_info": {
      "name": "python"
    },
    "gpuClass": "standard"
  },
  "cells": [
    {
      "cell_type": "markdown",
      "metadata": {
        "id": "view-in-github",
        "colab_type": "text"
      },
      "source": [
        "<a href=\"https://colab.research.google.com/github/qgrantq/upload_tobinder/blob/main/Upload_pic.ipynb\" target=\"_parent\"><img src=\"https://colab.research.google.com/assets/colab-badge.svg\" alt=\"Open In Colab\"/></a>"
      ]
    },
    {
      "cell_type": "markdown",
      "source": [
        "Cut-down so that does not require PIL to open pictures"
      ],
      "metadata": {
        "id": "bx9aSVMyhSKe"
      }
    },
    {
      "cell_type": "code",
      "source": [
        "#!pip install ipywidgets"
      ],
      "metadata": {
        "id": "MdQQ39BKO3JF"
      },
      "execution_count": null,
      "outputs": []
    },
    {
      "cell_type": "code",
      "source": [
        "import ipywidgets as widgets\n",
        "import io"
      ],
      "metadata": {
        "id": "wILq7V3hPCdz"
      },
      "execution_count": 26,
      "outputs": []
    },
    {
      "cell_type": "code",
      "source": [
        "from ipywidgets import FileUpload\n",
        "from IPython.display import display\n",
        "from IPython.display import Image\n"
      ],
      "metadata": {
        "id": "cagAzyPwqB_K"
      },
      "execution_count": 27,
      "outputs": []
    },
    {
      "cell_type": "code",
      "source": [
        "# The next two cells do not require PIL to be loaded\n",
        "\n",
        "uploader = widgets.FileUpload(accept='image/*', multiple=False)\n",
        "display(uploader)"
      ],
      "metadata": {
        "id": "mKgyxyJcIoWh"
      },
      "execution_count": null,
      "outputs": []
    },
    {
      "cell_type": "code",
      "source": [
        "input_file= list(uploader.value.values())[0]\n",
        "content=input_file['content']\n",
        "\n",
        "img2 = widgets.Image(value=content)\n",
        "\n",
        "button = widgets.Button(description=\"Display picture\")\n",
        "output = widgets.Output()\n",
        "\n",
        "display(button, output)\n",
        "\n",
        "def on_button_clicked(b):\n",
        "    with output:\n",
        "        print(\"Uploaded picture...\")\n",
        "        display(img2)\n",
        "\n",
        "button.on_click(on_button_clicked)"
      ],
      "metadata": {
        "id": "loODpnPDRY98"
      },
      "execution_count": null,
      "outputs": []
    }
  ]
}